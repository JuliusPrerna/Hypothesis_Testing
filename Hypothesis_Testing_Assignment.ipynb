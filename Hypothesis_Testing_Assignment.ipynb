{
 "cells": [
  {
   "cell_type": "markdown",
   "metadata": {},
   "source": [
    "# Hypothesis Testing Assignment\n",
    "\n",
    "### Background:\n",
    "Bombay Hospitality Ltd. uses a theoretical weekly operating cost model:\n",
    "\n",
    "$$ W = \\text{₹}1000 + \\text{₹}5X $$\n",
    "\n",
    "Where:\n",
    "- X = number of units produced in a week (normally distributed with mean μ = 600 and standard deviation σ = 25)\n",
    "- A sample of 25 restaurants reported a mean weekly cost of ₹3050.\n",
    "\n",
    "---\n",
    "## 1. Hypotheses Statement (Explicitly Stated)\n",
    "\n",
    "**Null Hypothesis (H₀):**\n",
    "$$ \\mu = 1000 + 5 \\times 600 = 4000 $$\n",
    "The mean weekly operating cost is equal to the theoretical cost.\n",
    "\n",
    "**Alternative Hypothesis (H₁):**\n",
    "$$ \\mu > 4000 $$\n",
    "The mean weekly operating cost is greater than the theoretical cost.\n",
    "\n",
    "- This is a one-tailed (right-tailed) test.\n",
    "- Significance level: α = 0.05\n"
   ]
  },
  {
   "cell_type": "code",
   "execution_count": 1,
   "metadata": {},
   "outputs": [
    {
     "data": {
      "text/plain": [
       "-38.0"
      ]
     },
     "execution_count": 1,
     "metadata": {},
     "output_type": "execute_result"
    }
   ],
   "source": [
    "import math\n",
    "from scipy.stats import norm\n",
    "\n",
    "# Sample and model parameters\n",
    "sample_mean = 3050  # Given sample mean\n",
    "theoretical_mean = 1000 + 5 * 600  # ₹4000\n",
    "sigma = 5 * 25  # ₹125\n",
    "n = 25  # Sample size\n",
    "\n",
    "# Calculate standard error and test statistic\n",
    "standard_error = sigma / math.sqrt(n)\n",
    "t_statistic = (sample_mean - theoretical_mean) / standard_error\n",
    "\n",
    "t_statistic"
   ]
  },
  {
   "cell_type": "markdown",
   "metadata": {},
   "source": [
    "## 3. Determine the Critical Value\n",
    "- For a one-tailed test with α = 0.05, we use the Z-distribution.\n"
   ]
  },
  {
   "cell_type": "code",
   "execution_count": 2,
   "metadata": {},
   "outputs": [
    {
     "data": {
      "text/plain": [
       "1.6448536269514722"
      ]
     },
     "execution_count": 2,
     "metadata": {},
     "output_type": "execute_result"
    }
   ],
   "source": [
    "alpha = 0.05\n",
    "critical_value = norm.ppf(1 - alpha)\n",
    "critical_value"
   ]
  },
  {
   "cell_type": "markdown",
   "metadata": {},
   "source": [
    "## 4. Make a Decision\n",
    "- Compare the test statistic with the critical value.\n",
    "- If test statistic > critical value, reject H₀.\n"
   ]
  },
  {
   "cell_type": "code",
   "execution_count": 3,
   "metadata": {},
   "outputs": [
    {
     "data": {
      "text/plain": [
       "'Do not reject H₀'"
      ]
     },
     "execution_count": 3,
     "metadata": {},
     "output_type": "execute_result"
    }
   ],
   "source": [
    "decision = \"Reject H₀\" if t_statistic > critical_value else \"Do not reject H₀\"\n",
    "decision"
   ]
  },
  {
   "cell_type": "markdown",
   "metadata": {},
   "source": [
    "## 5. Conclusion\n"
   ]
  },
  {
   "cell_type": "code",
   "execution_count": 4,
   "metadata": {},
   "outputs": [
    {
     "name": "stdout",
     "output_type": "stream",
     "text": [
      "Test Statistic (t): -38.0\n",
      "Critical Value (z): 1.64\n",
      "Decision: Do not reject H₀\n",
      "Conclusion: There is no strong evidence that the weekly operating costs are higher than the model suggests.\n"
     ]
    }
   ],
   "source": [
    "print(\"Test Statistic (t):\", round(t_statistic, 2))\n",
    "print(\"Critical Value (z):\", round(critical_value, 2))\n",
    "print(\"Decision:\", decision)\n",
    "\n",
    "if t_statistic > critical_value:\n",
    "    print(\"Conclusion: There is strong evidence that the actual weekly operating costs are higher than the model suggests.\")\n",
    "else:\n",
    "    print(\"Conclusion: There is no strong evidence that the weekly operating costs are higher than the model suggests.\")"
   ]
  }
 ],
 "metadata": {
  "kernelspec": {
   "display_name": "Python 3",
   "language": "python",
   "name": "python3"
  },
  "language_info": {
   "codemirror_mode": {
    "name": "ipython",
    "version": 3
   },
   "file_extension": ".py",
   "mimetype": "text/x-python",
   "name": "python",
   "nbconvert_exporter": "python",
   "pygments_lexer": "ipython3",
   "version": "3.9.13"
  }
 },
 "nbformat": 4,
 "nbformat_minor": 5
}
